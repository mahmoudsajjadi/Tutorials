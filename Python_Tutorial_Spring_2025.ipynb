{
  "nbformat": 4,
  "nbformat_minor": 0,
  "metadata": {
    "colab": {
      "provenance": [],
      "include_colab_link": true
    },
    "kernelspec": {
      "name": "python3",
      "display_name": "Python 3"
    },
    "accelerator": "GPU"
  },
  "cells": [
    {
      "cell_type": "markdown",
      "metadata": {
        "id": "view-in-github",
        "colab_type": "text"
      },
      "source": [
        "<a href=\"https://colab.research.google.com/github/mahmoudsajjadi/Tutorials/blob/main/Python_Tutorial_Spring_2025.ipynb\" target=\"_parent\"><img src=\"https://colab.research.google.com/assets/colab-badge.svg\" alt=\"Open In Colab\"/></a>"
      ]
    },
    {
      "cell_type": "markdown",
      "metadata": {
        "id": "ktTpk9bCr_Lg"
      },
      "source": [
        "# **PyTorch Basics Tutorial**\n",
        "\n",
        "Part of the following tutorial is adapted from the [DeepLearningForNLPInPytorch tutorial](https://github.com/rguthrie3/DeepLearningForNLPInPytorch/blob/master/Deep%20Learning%20for%20Natural%20Language%20Processing%20with%20Pytorch.ipynb) and the [Official PyTorch tutorials](https://pytorch.org/tutorials/beginner/blitz/tensor_tutorial.html#sphx-glr-beginner-blitz-tensor-tutorial-py)."
      ]
    },
    {
      "cell_type": "markdown",
      "source": [
        "# Python Tutorial\n",
        "\n",
        "\n",
        "## Session 1: Python Fundamentals and Pandas\n",
        "\n",
        "### 1.1 Variable Naming and Data Types\n",
        "\n",
        "#### Rules for Variable Naming\n",
        "- Use descriptive names.\n",
        "- Follow `snake_case` convention. (`last_name, annual_earnings, total_snakes_found`)\n",
        "- Avoid single-letter names (except for loop counters).\n",
        "- Avoid abbreviations unless widely known.\n",
        "\n",
        "#### Common Data Types\n",
        "- `int`: Integer numbers (e.g., `5`, `-3`)\n",
        "- `float`: Floating-point numbers (e.g., `3.14`, `-0.001`)\n",
        "- `str`: Strings (e.g., `\"hello\"`, `'Python'`)\n",
        "- `bool`: Boolean values (`True`, `False`)\n",
        "\n",
        "#### Type Conversion and Checking\n",
        "- Use `type()` to check the type of a variable.\n",
        "- Use `isinstance()` to check if a variable is of a specific type.\n",
        "- Convert between types using `int()`, `float()`, `str()`, etc.\n",
        "\n"
      ],
      "metadata": {
        "id": "8biyYjlIkm5c"
      }
    },
    {
      "cell_type": "code",
      "source": [
        "# Example: Variable Naming and Data Types\n",
        "age = 25  # int\n",
        "height = 5.9  # float\n",
        "name = \"UNR\"  # str\n",
        "is_student = True  # bool\n",
        "\n",
        "# Type checking\n",
        "print(type(\"age\"))  # <class 'int'>\n",
        "print(isinstance(height, float))  # True\n",
        "\n",
        "# Type conversion\n",
        "age_str = str(age)\n",
        "print(\"Age as string:\", age_str)  # \"25\""
      ],
      "metadata": {
        "id": "FVhH8AJ2_qFc",
        "colab": {
          "base_uri": "https://localhost:8080/"
        },
        "outputId": "d5aa1765-ed55-48c1-e8db-1e75e6e2fba8"
      },
      "execution_count": null,
      "outputs": [
        {
          "output_type": "stream",
          "name": "stdout",
          "text": [
            "<class 'str'>\n",
            "True\n",
            "Age as string: 25\n"
          ]
        }
      ]
    },
    {
      "cell_type": "markdown",
      "source": [
        "# Python Built-in Data Structures\n",
        "\n",
        "Python provides several built-in data structures to store and manipulate data efficiently. Below are the most commonly used ones, along with examples of where to use them.\n",
        "\n",
        "---\n",
        "\n",
        "## Lists  \n",
        "### Description  \n",
        "Ordered, mutable collections of items.  \n",
        "\n",
        "### When to Use  \n",
        "- Storing a sequence of items (e.g., a list of names, numbers).  \n",
        "- When you need to add, remove, or modify items frequently.  \n",
        "\n",
        "### Example  \n"
      ],
      "metadata": {
        "id": "gIAKou1f9j_5"
      }
    },
    {
      "cell_type": "code",
      "source": [
        "# Creating a list and adding an item\n",
        "fruits = [\"apple\", \"banana\", \"cherry\"]\n",
        "letter = [\"A\", \"B\", \"C\"]\n",
        "fruits.append(\"orange\")  # Add an item\n",
        "print(fruits)  # Output: ['apple', 'banana', 'cherry', 'orange']\n",
        "l = letter.pop()\n",
        "print(letter, l)\n",
        "fruits[1] = \"\"\n",
        "print(fruits)"
      ],
      "metadata": {
        "id": "HdXWqEd39pDK",
        "colab": {
          "base_uri": "https://localhost:8080/"
        },
        "outputId": "5a3e56f3-4b86-4ea9-aa41-dbd838d9bd07"
      },
      "execution_count": null,
      "outputs": [
        {
          "output_type": "stream",
          "name": "stdout",
          "text": [
            "['apple', 'banana', 'cherry', 'orange']\n",
            "['A', 'B'] C\n",
            "['apple', '', 'cherry', 'orange']\n"
          ]
        }
      ]
    },
    {
      "cell_type": "markdown",
      "source": [
        "## Tuples  \n",
        "### Description  \n",
        "Ordered, immutable collections of items.  \n",
        "\n",
        "### When to Use  \n",
        "- Storing data that should not change (e.g., coordinates, constants).  \n",
        "- When you need to ensure data integrity.  \n",
        "\n",
        "### Example"
      ],
      "metadata": {
        "id": "dCx695pF9vvb"
      }
    },
    {
      "cell_type": "code",
      "source": [
        "# Creating a tuple and accessing an element\n",
        "coordinates = (10.0, 20.0)\n",
        "print(coordinates[0])  # Output: 10.0"
      ],
      "metadata": {
        "id": "MFAFE5nm9yPg",
        "colab": {
          "base_uri": "https://localhost:8080/"
        },
        "outputId": "d1cb427b-fdfc-4bde-be2f-7ab48d33bd9f"
      },
      "execution_count": null,
      "outputs": [
        {
          "output_type": "stream",
          "name": "stdout",
          "text": [
            "10.0\n"
          ]
        }
      ]
    },
    {
      "cell_type": "markdown",
      "source": [
        "## Dictionaries  \n",
        "### Description  \n",
        "Unordered collections of key-value pairs.  \n",
        "\n",
        "### When to Use  \n",
        "- Storing data with unique keys (e.g., user profiles, configuration settings).  \n",
        "- When you need fast lookups by key.  \n",
        "\n",
        "### Example  "
      ],
      "metadata": {
        "id": "MjcY9hf791h7"
      }
    },
    {
      "cell_type": "code",
      "source": [
        "user = {\"name\": \"Alice\", \"age\": 25, \"city\": \"New York\"}\n",
        "print(user[\"age\"])"
      ],
      "metadata": {
        "colab": {
          "base_uri": "https://localhost:8080/"
        },
        "id": "Kx5T4fEQ96ke",
        "outputId": "b5148d44-52d9-4946-9a62-e246576d15c4"
      },
      "execution_count": null,
      "outputs": [
        {
          "output_type": "stream",
          "name": "stdout",
          "text": [
            "25\n"
          ]
        }
      ]
    },
    {
      "cell_type": "markdown",
      "source": [
        "## Sets  \n",
        "### Description  \n",
        "Unordered collections of unique items.  \n",
        "\n",
        "### When to Use  \n",
        "- Removing duplicates from a list.  \n",
        "- Performing mathematical set operations (e.g., union, intersection).  \n",
        "\n",
        "### Example  "
      ],
      "metadata": {
        "id": "rVgqPMV4-BJF"
      }
    },
    {
      "cell_type": "code",
      "source": [
        "# Creating a set and printing unique values\n",
        "unique_numbers = {1, 2, 3, 3, 4}\n",
        "print(unique_numbers)  # Output: {1, 2, 3, 4}"
      ],
      "metadata": {
        "id": "2nwqkPCW-D54",
        "colab": {
          "base_uri": "https://localhost:8080/"
        },
        "outputId": "7a85c91b-2563-44c8-acb9-eae065fe81f7"
      },
      "execution_count": null,
      "outputs": [
        {
          "output_type": "stream",
          "name": "stdout",
          "text": [
            "{1, 2, 3, 4}\n"
          ]
        }
      ]
    },
    {
      "cell_type": "markdown",
      "source": [
        "## Strings  \n",
        "### Description  \n",
        "Immutable sequences of characters.  \n",
        "\n",
        "### When to Use  \n",
        "- Storing and manipulating text data.  \n",
        "- When you need to perform string operations (e.g., slicing, formatting).  \n",
        "\n",
        "### Example  "
      ],
      "metadata": {
        "id": "e2A1cSzZ-Iwg"
      }
    },
    {
      "cell_type": "code",
      "source": [
        "message1 = \"Hello, Python!\"\n",
        "message2 = \"hello, Python!\"\n",
        "print(message1.upper())  # Output: HELLO, PYTHON!"
      ],
      "metadata": {
        "id": "ehm-KyaP-Nkz",
        "colab": {
          "base_uri": "https://localhost:8080/"
        },
        "outputId": "56cff715-dc06-4c10-ef62-f542aac37661"
      },
      "execution_count": null,
      "outputs": [
        {
          "output_type": "stream",
          "name": "stdout",
          "text": [
            "HELLO, PYTHON!\n"
          ]
        }
      ]
    },
    {
      "cell_type": "code",
      "source": [
        "\n",
        "\n",
        "# Example\n",
        "'''Lists\n",
        "Ordered, mutable collections.\n",
        "\n",
        "Common operations: append(), remove(), sort(), reverse().\n",
        "'''\n",
        "fruits = [\"apple\", \"banana\", \"cherry\"]\n",
        "fruits.append(\"orange\")\n",
        "fruits.remove(\"banana\")\n",
        "fruits.sort()\n",
        "print(fruits)  # ['apple', 'cherry', 'orange']\n",
        "\n",
        "'''\n",
        "Tuples\n",
        "Ordered, immutable collections.\n",
        "\n",
        "Useful for fixed data.\n",
        "'''\n",
        "coordinates = (10, 20)\n",
        "x, y = coordinates  # Unpacking\n",
        "print(x, y)  # 10 20\n",
        "\n",
        "'''\n",
        "Sets\n",
        "Unordered collections of unique elements.\n",
        "\n",
        "Common operations: union(), intersection().\n",
        "'''\n",
        "set1 = {1, 2, 3}\n",
        "set2 = {3, 4, 5}\n",
        "print(set1.union(set2))  # {1, 2, 3, 4, 5}\n",
        "\n",
        "'''\n",
        "Dictionaries\n",
        "Key-value pairs.\n",
        "\n",
        "Common methods: get(), keys(), values().\n",
        "'''\n",
        "\n",
        "# Example: Dictionaries\n",
        "student = {\"name\": \"Alice\", \"age\": 25, \"is_student\": True}\n",
        "print(student.get(\"name\"))  # Alice\n",
        "print(student.keys())  # dict_keys(['name', 'age', 'is_student'])"
      ],
      "metadata": {
        "colab": {
          "base_uri": "https://localhost:8080/"
        },
        "id": "fMSge2_RmYKI",
        "outputId": "07d0df15-7d9d-4b49-cd9f-e3d209467752"
      },
      "execution_count": null,
      "outputs": [
        {
          "output_type": "stream",
          "name": "stdout",
          "text": [
            "<class 'int'>\n",
            "True\n",
            "Age as string: 25\n"
          ]
        }
      ]
    },
    {
      "cell_type": "markdown",
      "source": [
        "# Other Data Structures\n",
        "\n",
        "While Python's built-in data structures (lists, tuples, dictionaries, sets, and strings) are sufficient for most tasks, there are advanced data structures like **binary trees** and **linked lists** that are useful for specific scenarios. These are often implemented using classes in Python.\n",
        "\n",
        "---\n",
        "\n",
        "## 1. Binary Tree\n",
        "\n",
        "### **Description**  \n",
        "A binary tree is a hierarchical data structure where each node has at most two children, referred to as the **left child** and **right child**.\n",
        "\n",
        "### **When to Use**  \n",
        "- Representing hierarchical data (e.g., file systems, organization charts).  \n",
        "- Implementing search algorithms (e.g., binary search trees).  \n",
        "- Solving problems like tree traversal, pathfinding, and sorting.  \n",
        "\n",
        "### **Example**  \n"
      ],
      "metadata": {
        "id": "nG0bjfFRAsM2"
      }
    },
    {
      "cell_type": "code",
      "source": [
        "class TreeNode:\n",
        "    def __init__(self, value):\n",
        "        self.value = value\n",
        "        self.left = None\n",
        "        self.right = None\n",
        "\n",
        "# Create a binary tree\n",
        "root = TreeNode(1)\n",
        "root.left = TreeNode(2)\n",
        "root.right = TreeNode(3)\n",
        "root.left.left = TreeNode(4)\n",
        "root.left.right = TreeNode(5)\n",
        "\n",
        "# Traverse the tree (in-order traversal)\n",
        "def in_order_traversal(node):\n",
        "    if node:\n",
        "        in_order_traversal(node.left)\n",
        "        print(node.value, end=\" \")\n",
        "        in_order_traversal(node.right)\n",
        "\n",
        "print(\"In-order traversal:\")\n",
        "in_order_traversal(root)  # Output: 4 2 5 1 3\n"
      ],
      "metadata": {
        "id": "xf4kN3GCAzFC"
      },
      "execution_count": null,
      "outputs": []
    },
    {
      "cell_type": "markdown",
      "source": [
        "## 2. Linked List\n",
        "\n",
        "### **Description**  \n",
        "A linked list is a linear data structure where each element (called a node) contains data and a reference (or link) to the next node in the sequence.\n",
        "\n",
        "### **When to Use**  \n",
        "- When you need **dynamic memory allocation** (e.g., frequent insertions/deletions).  \n",
        "- Implementing **stacks, queues, and hash tables**.  \n",
        "- Solving problems like **reversing a list** or **detecting cycles**.  \n",
        "\n",
        "### **Example**  "
      ],
      "metadata": {
        "id": "sZfW8S4YA14L"
      }
    },
    {
      "cell_type": "code",
      "source": [
        "class ListNode:\n",
        "    def __init__(self, value):\n",
        "        self.value = value\n",
        "        self.next = None\n",
        "\n",
        "# Create a linked list\n",
        "head = ListNode(1)\n",
        "head.next = ListNode(2)\n",
        "head.next.next = ListNode(3)\n",
        "\n",
        "# Traverse the linked list\n",
        "def traverse_linked_list(node):\n",
        "    while node:\n",
        "        print(node.value, end=\" -> \")\n",
        "        node = node.next\n",
        "    print(\"None\")\n",
        "\n",
        "print(\"Linked list traversal:\")\n",
        "traverse_linked_list(head)  # Output: 1 -> 2 -> 3 -> None\n"
      ],
      "metadata": {
        "id": "yZGwYpRgA5Wm"
      },
      "execution_count": null,
      "outputs": []
    },
    {
      "cell_type": "markdown",
      "source": [
        "## 3. Stack\n",
        "\n",
        "### **Description**  \n",
        "A **stack** is a linear data structure that follows the **Last In, First Out (LIFO)** principle. Elements are added and removed from the **top**.\n",
        "\n",
        "### **When to Use**  \n",
        "- Implementing **undo/redo** functionality.  \n",
        "- **Parsing expressions** (e.g., checking balanced parentheses).  \n",
        "- Solving problems like **depth-first search (DFS)**.  \n",
        "\n",
        "### **Example**"
      ],
      "metadata": {
        "id": "vilko5WyBBhG"
      }
    },
    {
      "cell_type": "code",
      "source": [
        "stack = []\n",
        "stack.append(1)  # Push\n",
        "stack.append(2)\n",
        "stack.append(3)\n",
        "print(\"Stack after pushes:\", stack)\n",
        "\n",
        "popped_element = stack.pop()  # Pop\n",
        "print(\"Popped element:\", popped_element)\n",
        "print(\"Stack after pop:\", stack)"
      ],
      "metadata": {
        "id": "TvSLcD6UBJwD"
      },
      "execution_count": null,
      "outputs": []
    },
    {
      "cell_type": "markdown",
      "source": [
        "## 4. Queue\n",
        "\n",
        "### **Description**  \n",
        "A **queue** is a linear data structure that follows the **First In, First Out (FIFO)** principle. Elements are **added at the rear** and **removed from the front**.\n",
        "\n",
        "### **When to Use**  \n",
        "- **Task scheduling** (e.g., print queues).  \n",
        "- Solving problems like **breadth-first search (BFS)**.  \n",
        "\n",
        "### **Example**  "
      ],
      "metadata": {
        "id": "oGQ5xw9CBM1g"
      }
    },
    {
      "cell_type": "code",
      "source": [
        "from collections import deque\n",
        "\n",
        "queue = deque()\n",
        "queue.append(1)  # Enqueue\n",
        "queue.append(2)\n",
        "queue.append(3)\n",
        "print(\"Queue after enqueues:\", queue)\n",
        "\n",
        "dequeued_element = queue.popleft()  # Dequeue\n",
        "print(\"Dequeued element:\", dequeued_element)\n",
        "print(\"Queue after dequeue:\", queue)"
      ],
      "metadata": {
        "id": "qii84EP2BP5_"
      },
      "execution_count": null,
      "outputs": []
    },
    {
      "cell_type": "markdown",
      "source": [
        "## How about Graphs?"
      ],
      "metadata": {
        "id": "PKjgHxMZBkKz"
      }
    },
    {
      "cell_type": "markdown",
      "source": [
        "##Hands-On Exercise\n",
        "Task: Practice using the data structures above to solve the following problems:\n",
        "\n",
        "Create a list of your favorite movies and add a new movie to it.\n",
        "\n",
        "Store the dimensions of a rectangle as a tuple and calculate its area.\n",
        "\n",
        "Create a dictionary to store information about a person (name, age, city) and print their details.\n",
        "\n",
        "Remove duplicates from a list of numbers using a set.\n",
        "\n",
        "Convert a string to lowercase and print it."
      ],
      "metadata": {
        "id": "i2LqhDok96HB"
      }
    },
    {
      "cell_type": "code",
      "source": [
        "# 1. List of favorite movies\n",
        "movies = [\"Inception\", \"The Matrix\", \"Interstellar\"]\n",
        "movies.append(\"The Dark Knight\")\n",
        "print(\"Movies:\", movies)\n",
        "\n",
        "# 2. Rectangle dimensions (width, height)\n",
        "rectangle = (10, 5)\n",
        "area = rectangle[0] * rectangle[1]\n",
        "print(\"Area of rectangle:\", area)\n",
        "\n",
        "# 3. Dictionary for person information\n",
        "person = {\"name\": \"Alice\", \"age\": 25, \"city\": \"New York\"}\n",
        "print(\"Person Details:\", person)\n",
        "\n",
        "# 4. Remove duplicates using a set\n",
        "numbers = [1, 2, 2, 3, 4, 4, 5]\n",
        "unique_numbers = set(numbers)\n",
        "print(\"Unique Numbers:\", unique_numbers)\n",
        "\n",
        "text = \"Hello, Python!\"\n",
        "print(\"Lowercase Text:\", text.lower())"
      ],
      "metadata": {
        "id": "zkcC79-A8dpL"
      },
      "execution_count": null,
      "outputs": []
    },
    {
      "cell_type": "markdown",
      "source": [
        "# Overview of Key Libraries\n",
        "\n",
        "## 1. Key Libraries and Their Uses\n",
        "\n",
        "### NumPy\n",
        "- **Purpose**: For numerical computations and working with arrays.\n",
        "- **Key Features**:\n",
        "  - Efficient handling of large arrays and matrices.\n",
        "  - Supports mathematical operations like linear algebra, Fourier transforms, and random number generation.\n",
        "\n",
        "### scikit-learn\n",
        "- **Purpose**: For traditional machine learning algorithms.\n",
        "- **Key Features**:\n",
        "  - Implements models like regression, classification, and clustering.\n",
        "  - Provides tools for model evaluation, preprocessing, and dataset handling.\n",
        "\n",
        "### PyTorch\n",
        "- **Purpose**: For deep learning and neural networks.\n",
        "- **Key Features**:\n",
        "  - Flexible and dynamic computation graphs.\n",
        "  - Supports GPU acceleration for faster training.\n",
        "  - Widely used in research and production for tasks like image recognition and NLP.\n"
      ],
      "metadata": {
        "id": "5N1VSCdV7RfI"
      }
    },
    {
      "cell_type": "markdown",
      "source": [
        "# Introduction to Pandas\n",
        "\n",
        "Pandas is a Python library for data manipulation and analysis. It provides data structures like **DataFrames** and **Series** that make working with structured data easy and intuitive.\n",
        "\n",
        "### Key Features of Pandas:\n",
        "1. **DataFrame:** A 2D table-like structure with rows and columns (similar to a spreadsheet).\n",
        "2. **Series:** A 1D array-like structure (a single column of a DataFrame).\n",
        "3. **Data Cleaning:** Handle missing data, filter rows/columns, and reshape data.\n",
        "4. **Data Analysis:** Perform operations like grouping, aggregation, and merging.\n",
        "5. **Input/Output:** Read and write data from/to various formats (CSV, Excel, SQL, etc.).\n",
        "\n",
        "### Installing Pandas\n",
        "If you're using Colab, Pandas is pre-installed. If not, you can install it using:\n",
        "`pip install pandas`"
      ],
      "metadata": {
        "id": "br2Uo_suphEa"
      }
    },
    {
      "cell_type": "code",
      "source": [
        "from typing import List\n",
        "import pandas as pd\n",
        "# Function to create a DataFrame\n",
        "def createDataframe(student_data: List[List[int]]) -> pd.DataFrame:\n",
        "    return pd.DataFrame(student_data, columns=['student_id', 'age'])\n",
        "\n",
        "# Example data\n",
        "student_data = [\n",
        "    [1, 15],\n",
        "    [2, 16],\n",
        "    [3, 14],\n",
        "    [4, 17],\n",
        "    [5, 18]\n",
        "]\n",
        "\n",
        "# Create DataFrame\n",
        "# df = createDataframe(student_data)\n",
        "df = pd.DataFrame(student_data, columns=['student_id', 'age'])\n",
        "print(df)"
      ],
      "metadata": {
        "colab": {
          "base_uri": "https://localhost:8080/"
        },
        "id": "ihu0TwxjB9iG",
        "outputId": "83be123c-a7a5-4fa1-9fb6-ad714e2940ed"
      },
      "execution_count": null,
      "outputs": [
        {
          "output_type": "stream",
          "name": "stdout",
          "text": [
            "   student_id  age\n",
            "0           1   15\n",
            "1           2   16\n",
            "2           3   14\n",
            "3           4   17\n",
            "4           5   18\n"
          ]
        }
      ]
    },
    {
      "cell_type": "code",
      "source": [
        "# Load Titanic dataset from a URL\n",
        "url = \"https://raw.githubusercontent.com/datasciencedojo/datasets/master/titanic.csv\"\n",
        "df = pd.read_csv(url)\n",
        "\n",
        "# Display the first 5 rows\n",
        "print(df.head(2))"
      ],
      "metadata": {
        "colab": {
          "base_uri": "https://localhost:8080/"
        },
        "id": "_u2gzOyKCDpV",
        "outputId": "feddf6a6-09aa-4672-faba-57fca258eb2c"
      },
      "execution_count": null,
      "outputs": [
        {
          "output_type": "stream",
          "name": "stdout",
          "text": [
            "   PassengerId  Survived  Pclass  \\\n",
            "0            1         0       3   \n",
            "1            2         1       1   \n",
            "\n",
            "                                                Name     Sex   Age  SibSp  \\\n",
            "0                            Braund, Mr. Owen Harris    male  22.0      1   \n",
            "1  Cumings, Mrs. John Bradley (Florence Briggs Th...  female  38.0      1   \n",
            "\n",
            "   Parch     Ticket     Fare Cabin Embarked  \n",
            "0      0  A/5 21171   7.2500   NaN        S  \n",
            "1      0   PC 17599  71.2833   C85        C  \n"
          ]
        }
      ]
    },
    {
      "cell_type": "markdown",
      "source": [
        "## Essential Pandas Commands\n"
      ],
      "metadata": {
        "id": "lDUpyTW9CQID"
      }
    },
    {
      "cell_type": "code",
      "source": [
        "# Display Basic Information\n",
        "\n",
        "# # Display the first 5 rows\n",
        "print(df.head())\n",
        "\n",
        "# Display the last 5 rows\n",
        "# print(df.tail())\n",
        "\n",
        "# Get DataFrame shape (rows, columns)\n",
        "# print(df.shape)\n",
        "\n",
        "# # Get column names\n",
        "print(df.columns)\n",
        "\n",
        "# # Get summary statistics\n",
        "print(df.describe())"
      ],
      "metadata": {
        "colab": {
          "base_uri": "https://localhost:8080/"
        },
        "id": "uENt7pCxCTMe",
        "outputId": "74952410-1c11-47d3-c1f5-ddfc3fff1c11"
      },
      "execution_count": null,
      "outputs": [
        {
          "output_type": "stream",
          "name": "stdout",
          "text": [
            "   PassengerId  Survived  Pclass  \\\n",
            "0            1         0       3   \n",
            "1            2         1       1   \n",
            "2            3         1       3   \n",
            "3            4         1       1   \n",
            "4            5         0       3   \n",
            "\n",
            "                                                Name     Sex   Age  SibSp  \\\n",
            "0                            Braund, Mr. Owen Harris    male  22.0      1   \n",
            "1  Cumings, Mrs. John Bradley (Florence Briggs Th...  female  38.0      1   \n",
            "2                             Heikkinen, Miss. Laina  female  26.0      0   \n",
            "3       Futrelle, Mrs. Jacques Heath (Lily May Peel)  female  35.0      1   \n",
            "4                           Allen, Mr. William Henry    male  35.0      0   \n",
            "\n",
            "   Parch            Ticket     Fare Cabin Embarked  \n",
            "0      0         A/5 21171   7.2500   NaN        S  \n",
            "1      0          PC 17599  71.2833   C85        C  \n",
            "2      0  STON/O2. 3101282   7.9250   NaN        S  \n",
            "3      0            113803  53.1000  C123        S  \n",
            "4      0            373450   8.0500   NaN        S  \n",
            "Index(['PassengerId', 'Survived', 'Pclass', 'Name', 'Sex', 'Age', 'SibSp',\n",
            "       'Parch', 'Ticket', 'Fare', 'Cabin', 'Embarked'],\n",
            "      dtype='object')\n",
            "       PassengerId    Survived      Pclass         Age       SibSp  \\\n",
            "count   891.000000  891.000000  891.000000  714.000000  891.000000   \n",
            "mean    446.000000    0.383838    2.308642   29.699118    0.523008   \n",
            "std     257.353842    0.486592    0.836071   14.526497    1.102743   \n",
            "min       1.000000    0.000000    1.000000    0.420000    0.000000   \n",
            "25%     223.500000    0.000000    2.000000   20.125000    0.000000   \n",
            "50%     446.000000    0.000000    3.000000   28.000000    0.000000   \n",
            "75%     668.500000    1.000000    3.000000   38.000000    1.000000   \n",
            "max     891.000000    1.000000    3.000000   80.000000    8.000000   \n",
            "\n",
            "            Parch        Fare  \n",
            "count  891.000000  891.000000  \n",
            "mean     0.381594   32.204208  \n",
            "std      0.806057   49.693429  \n",
            "min      0.000000    0.000000  \n",
            "25%      0.000000    7.910400  \n",
            "50%      0.000000   14.454200  \n",
            "75%      0.000000   31.000000  \n",
            "max      6.000000  512.329200  \n"
          ]
        }
      ]
    },
    {
      "cell_type": "code",
      "source": [
        "# Filtering Data\n",
        "\n",
        "# Filter rows where 'Survived' is 1 (survived)\n",
        "survived_passengers = df[df[\"Survived\"] == 1]\n",
        "# print(survived_passengers.head())\n",
        "\n",
        "# Filter specific columns\n",
        "print(df[[\"Name\", \"Age\", \"Survived\"]].head())\n",
        "print(survived_passengers.shape)"
      ],
      "metadata": {
        "id": "TK7zSiwgCber",
        "colab": {
          "base_uri": "https://localhost:8080/"
        },
        "outputId": "84b98107-59c2-442b-84cc-02df9d4a36e9"
      },
      "execution_count": null,
      "outputs": [
        {
          "output_type": "stream",
          "name": "stdout",
          "text": [
            "                                                Name   Age  Survived\n",
            "0                            Braund, Mr. Owen Harris  22.0         0\n",
            "1  Cumings, Mrs. John Bradley (Florence Briggs Th...  38.0         1\n",
            "2                             Heikkinen, Miss. Laina  26.0         1\n",
            "3       Futrelle, Mrs. Jacques Heath (Lily May Peel)  35.0         1\n",
            "4                           Allen, Mr. William Henry  35.0         0\n",
            "(342, 12)\n"
          ]
        }
      ]
    },
    {
      "cell_type": "code",
      "source": [
        "# Handling Missing Data\n",
        "# Check for missing values\n",
        "# print(df.isnull().sum())\n",
        "\n",
        "# # Drop rows with missing values\n",
        "# df_cleaned = df.dropna()\n",
        "# print(df_cleaned.head())\n",
        "\n",
        "# # Fill missing values with a default value\n",
        "df_filled = df.fillna(0)\n",
        "print(df_filled.head())"
      ],
      "metadata": {
        "id": "skl2c05zCgAi",
        "colab": {
          "base_uri": "https://localhost:8080/"
        },
        "outputId": "7deee8f9-3528-4eae-9c43-7ce117ea4ab8"
      },
      "execution_count": null,
      "outputs": [
        {
          "output_type": "stream",
          "name": "stdout",
          "text": [
            "   PassengerId  Survived  Pclass  \\\n",
            "0            1         0       3   \n",
            "1            2         1       1   \n",
            "2            3         1       3   \n",
            "3            4         1       1   \n",
            "4            5         0       3   \n",
            "\n",
            "                                                Name     Sex   Age  SibSp  \\\n",
            "0                            Braund, Mr. Owen Harris    male  22.0      1   \n",
            "1  Cumings, Mrs. John Bradley (Florence Briggs Th...  female  38.0      1   \n",
            "2                             Heikkinen, Miss. Laina  female  26.0      0   \n",
            "3       Futrelle, Mrs. Jacques Heath (Lily May Peel)  female  35.0      1   \n",
            "4                           Allen, Mr. William Henry    male  35.0      0   \n",
            "\n",
            "   Parch            Ticket     Fare Cabin Embarked  \n",
            "0      0         A/5 21171   7.2500     0        S  \n",
            "1      0          PC 17599  71.2833   C85        C  \n",
            "2      0  STON/O2. 3101282   7.9250     0        S  \n",
            "3      0            113803  53.1000  C123        S  \n",
            "4      0            373450   8.0500     0        S  \n"
          ]
        }
      ]
    },
    {
      "cell_type": "code",
      "source": [
        "#Sorting Data\n",
        "# Sort by a column (e.g., 'Age') # , ascending=T/False\n",
        "df_sorted = df.sort_values(by=[\"Age\", \"Ticket\"], ascending=False)\n",
        "print(df_sorted.head())\n",
        "\n",
        "#Sorting by Multiple Columns\n",
        "#df.sort_values(by=[\"column1\", \"column2\"], ascending=[True, False])\n",
        "\n",
        "# df.sort_index(ascending=True/False)\n",
        "\n",
        "#Sorting in Place\n",
        "# df.sort_values(by=\"column_name\", inplace=True)"
      ],
      "metadata": {
        "colab": {
          "base_uri": "https://localhost:8080/"
        },
        "id": "LlYmS5eHCimM",
        "outputId": "6093cb3d-f1df-408f-fb4e-feb8a13f3940"
      },
      "execution_count": null,
      "outputs": [
        {
          "output_type": "stream",
          "name": "stdout",
          "text": [
            "     PassengerId  Survived  Pclass                                  Name  \\\n",
            "630          631         1       1  Barkworth, Mr. Algernon Henry Wilson   \n",
            "851          852         0       3                   Svensson, Mr. Johan   \n",
            "493          494         0       1               Artagaveytia, Mr. Ramon   \n",
            "96            97         0       1             Goldschmidt, Mr. George B   \n",
            "116          117         0       3                  Connors, Mr. Patrick   \n",
            "\n",
            "      Sex   Age  SibSp  Parch    Ticket     Fare Cabin Embarked  \n",
            "630  male  80.0      0      0     27042  30.0000   A23        S  \n",
            "851  male  74.0      0      0    347060   7.7750   NaN        S  \n",
            "493  male  71.0      0      0  PC 17609  49.5042   NaN        C  \n",
            "96   male  71.0      0      0  PC 17754  34.6542    A5        C  \n",
            "116  male  70.5      0      0    370369   7.7500   NaN        Q  \n"
          ]
        }
      ]
    },
    {
      "cell_type": "code",
      "source": [
        "# Grouping and Aggregation\n",
        "\n",
        "# # Group by a column and calculate mean\n",
        "# grouped = df.groupby(\"Pclass\")[\"Age\"].mean()\n",
        "# print(grouped)\n",
        "\n",
        "# Group by multiple columns and aggregate\n",
        "grouped_multiple = df.groupby([\"Pclass\", \"Sex\"])[\"Survived\"].sum()\n",
        "print(grouped_multiple)"
      ],
      "metadata": {
        "colab": {
          "base_uri": "https://localhost:8080/"
        },
        "id": "MtjQ_1BbDfgK",
        "outputId": "930f51c1-fd7f-416a-dc9e-11de01fa24d7"
      },
      "execution_count": null,
      "outputs": [
        {
          "output_type": "stream",
          "name": "stdout",
          "text": [
            "Pclass  Sex   \n",
            "1       female    91\n",
            "        male      45\n",
            "2       female    70\n",
            "        male      17\n",
            "3       female    72\n",
            "        male      47\n",
            "Name: Survived, dtype: int64\n"
          ]
        }
      ]
    },
    {
      "cell_type": "code",
      "source": [
        "# Adding/Removing Columns\n",
        "\n",
        "# Add a new column\n",
        "# SibSp : Sibling/Spouse Count\n",
        "# Parent/Child Count\n",
        "df[\"FamilySize\"] = df[\"SibSp\"] + df[\"Parch\"]\n",
        "print(df.head())\n",
        "\n",
        "# Drop a column\n",
        "df_dropped = df.drop(columns=[\"SibSp\", \"Parch\"])\n",
        "print(df_dropped.head())\n",
        "df_dropped.shape"
      ],
      "metadata": {
        "colab": {
          "base_uri": "https://localhost:8080/"
        },
        "id": "NOS4IXeJD3Ma",
        "outputId": "3254f68d-da23-4e4e-f8ea-33e396025758"
      },
      "execution_count": null,
      "outputs": [
        {
          "output_type": "stream",
          "name": "stdout",
          "text": [
            "   PassengerId  Survived  Pclass  \\\n",
            "0            1         0       3   \n",
            "1            2         1       1   \n",
            "2            3         1       3   \n",
            "3            4         1       1   \n",
            "4            5         0       3   \n",
            "\n",
            "                                                Name     Sex   Age  SibSp  \\\n",
            "0                            Braund, Mr. Owen Harris    male  22.0      1   \n",
            "1  Cumings, Mrs. John Bradley (Florence Briggs Th...  female  38.0      1   \n",
            "2                             Heikkinen, Miss. Laina  female  26.0      0   \n",
            "3       Futrelle, Mrs. Jacques Heath (Lily May Peel)  female  35.0      1   \n",
            "4                           Allen, Mr. William Henry    male  35.0      0   \n",
            "\n",
            "   Parch            Ticket     Fare Cabin Embarked  FamilySize  \n",
            "0      0         A/5 21171   7.2500   NaN        S           1  \n",
            "1      0          PC 17599  71.2833   C85        C           1  \n",
            "2      0  STON/O2. 3101282   7.9250   NaN        S           0  \n",
            "3      0            113803  53.1000  C123        S           1  \n",
            "4      0            373450   8.0500   NaN        S           0  \n",
            "   PassengerId  Survived  Pclass  \\\n",
            "0            1         0       3   \n",
            "1            2         1       1   \n",
            "2            3         1       3   \n",
            "3            4         1       1   \n",
            "4            5         0       3   \n",
            "\n",
            "                                                Name     Sex   Age  \\\n",
            "0                            Braund, Mr. Owen Harris    male  22.0   \n",
            "1  Cumings, Mrs. John Bradley (Florence Briggs Th...  female  38.0   \n",
            "2                             Heikkinen, Miss. Laina  female  26.0   \n",
            "3       Futrelle, Mrs. Jacques Heath (Lily May Peel)  female  35.0   \n",
            "4                           Allen, Mr. William Henry    male  35.0   \n",
            "\n",
            "             Ticket     Fare Cabin Embarked  FamilySize  \n",
            "0         A/5 21171   7.2500   NaN        S           1  \n",
            "1          PC 17599  71.2833   C85        C           1  \n",
            "2  STON/O2. 3101282   7.9250   NaN        S           0  \n",
            "3            113803  53.1000  C123        S           1  \n",
            "4            373450   8.0500   NaN        S           0  \n"
          ]
        },
        {
          "output_type": "execute_result",
          "data": {
            "text/plain": [
              "(891, 11)"
            ]
          },
          "metadata": {},
          "execution_count": 31
        }
      ]
    },
    {
      "cell_type": "code",
      "source": [
        "# Renaming Columns\n",
        "\n",
        "df_renamed = df.rename(columns={\"Pclass\": \"PassengerClass\"})\n",
        "print(df_renamed.head())"
      ],
      "metadata": {
        "id": "7y5CakBoEX6g",
        "colab": {
          "base_uri": "https://localhost:8080/"
        },
        "outputId": "4220d222-9995-40c1-8e28-e8fdab12da4b"
      },
      "execution_count": null,
      "outputs": [
        {
          "output_type": "stream",
          "name": "stdout",
          "text": [
            "   PassengerId  Survived  PassengerClass  \\\n",
            "0            1         0               3   \n",
            "1            2         1               1   \n",
            "2            3         1               3   \n",
            "3            4         1               1   \n",
            "4            5         0               3   \n",
            "\n",
            "                                                Name     Sex   Age  SibSp  \\\n",
            "0                            Braund, Mr. Owen Harris    male  22.0      1   \n",
            "1  Cumings, Mrs. John Bradley (Florence Briggs Th...  female  38.0      1   \n",
            "2                             Heikkinen, Miss. Laina  female  26.0      0   \n",
            "3       Futrelle, Mrs. Jacques Heath (Lily May Peel)  female  35.0      1   \n",
            "4                           Allen, Mr. William Henry    male  35.0      0   \n",
            "\n",
            "   Parch            Ticket     Fare Cabin Embarked  FamilySize  \n",
            "0      0         A/5 21171   7.2500   NaN        S           1  \n",
            "1      0          PC 17599  71.2833   C85        C           1  \n",
            "2      0  STON/O2. 3101282   7.9250   NaN        S           0  \n",
            "3      0            113803  53.1000  C123        S           1  \n",
            "4      0            373450   8.0500   NaN        S           0  \n"
          ]
        }
      ]
    },
    {
      "cell_type": "code",
      "source": [
        "# Applying Functions to Data\n",
        "df[\"AgeCategory\"] = df[\"Age\"].apply(lambda x: \"Child\" if x < 18 else \"Adult\")\n",
        "print(df.head())"
      ],
      "metadata": {
        "colab": {
          "base_uri": "https://localhost:8080/"
        },
        "id": "kx3X1RbyEdg9",
        "outputId": "253c0c72-0494-4e6a-cc32-7eb99d6a1ca8"
      },
      "execution_count": null,
      "outputs": [
        {
          "output_type": "stream",
          "name": "stdout",
          "text": [
            "   PassengerId  Survived  Pclass  \\\n",
            "0            1         0       3   \n",
            "1            2         1       1   \n",
            "2            3         1       3   \n",
            "3            4         1       1   \n",
            "4            5         0       3   \n",
            "\n",
            "                                                Name     Sex   Age  SibSp  \\\n",
            "0                            Braund, Mr. Owen Harris    male  22.0      1   \n",
            "1  Cumings, Mrs. John Bradley (Florence Briggs Th...  female  38.0      1   \n",
            "2                             Heikkinen, Miss. Laina  female  26.0      0   \n",
            "3       Futrelle, Mrs. Jacques Heath (Lily May Peel)  female  35.0      1   \n",
            "4                           Allen, Mr. William Henry    male  35.0      0   \n",
            "\n",
            "   Parch            Ticket     Fare Cabin Embarked  FamilySize AgeCategory  \n",
            "0      0         A/5 21171   7.2500   NaN        S           1       Adult  \n",
            "1      0          PC 17599  71.2833   C85        C           1       Adult  \n",
            "2      0  STON/O2. 3101282   7.9250   NaN        S           0       Adult  \n",
            "3      0            113803  53.1000  C123        S           1       Adult  \n",
            "4      0            373450   8.0500   NaN        S           0       Adult  \n"
          ]
        }
      ]
    },
    {
      "cell_type": "code",
      "source": [
        "#Merging DataFrames\n",
        "df2 = pd.DataFrame({\n",
        "    \"PassengerId\": [1, 2, 3],\n",
        "    \"Ticket\": [\"A123\", \"B456\", \"C789\"]\n",
        "})\n",
        "\n",
        "# Merge DataFrames on a common column\n",
        "merged_df = pd.merge(df, df2, on=\"PassengerId\")\n",
        "print(merged_df.head())"
      ],
      "metadata": {
        "colab": {
          "base_uri": "https://localhost:8080/"
        },
        "id": "9SNKsvOHEw9L",
        "outputId": "1cfeb644-76d3-4254-f6da-11d19b748d77"
      },
      "execution_count": null,
      "outputs": [
        {
          "output_type": "stream",
          "name": "stdout",
          "text": [
            "   PassengerId  Survived  Pclass  \\\n",
            "0            1         0       3   \n",
            "1            2         1       1   \n",
            "2            3         1       3   \n",
            "\n",
            "                                                Name     Sex   Age  SibSp  \\\n",
            "0                            Braund, Mr. Owen Harris    male  22.0      1   \n",
            "1  Cumings, Mrs. John Bradley (Florence Briggs Th...  female  38.0      1   \n",
            "2                             Heikkinen, Miss. Laina  female  26.0      0   \n",
            "\n",
            "   Parch          Ticket_x     Fare Cabin Embarked  FamilySize AgeCategory  \\\n",
            "0      0         A/5 21171   7.2500   NaN        S           1       Adult   \n",
            "1      0          PC 17599  71.2833   C85        C           1       Adult   \n",
            "2      0  STON/O2. 3101282   7.9250   NaN        S           0       Adult   \n",
            "\n",
            "  Ticket_y  \n",
            "0     A123  \n",
            "1     B456  \n",
            "2     C789  \n"
          ]
        }
      ]
    },
    {
      "cell_type": "code",
      "source": [
        "# Saving Data to a File\n",
        "\n",
        "df.to_csv(\"titanic_cleaned.csv\", index=False)"
      ],
      "metadata": {
        "id": "5EbIMWOoE2Sb"
      },
      "execution_count": null,
      "outputs": []
    },
    {
      "cell_type": "markdown",
      "source": [
        "## Summary of Pandas Commands\n",
        "\n",
        "Below is a list of essential Pandas commands with descriptions and examples:\n",
        "\n",
        "| **Command**                          | **Description**                                      | **Example**                                                                 |\n",
        "|--------------------------------------|------------------------------------------------------|-----------------------------------------------------------------------------|\n",
        "| `df.head()`                          | Display the first 5 rows.                            | `df.head()`                                                                 |\n",
        "| `df.tail()`                          | Display the last 5 rows.                             | `df.tail()`                                                                 |\n",
        "| `df.shape`                           | Get the number of rows and columns.                  | `df.shape`                                                                  |\n",
        "| `df.columns`                         | Get the column names.                                | `df.columns`                                                                |\n",
        "| `df.describe()`                      | Get summary statistics.                              | `df.describe()`                                                             |\n",
        "| `df[df[\"col\"] == value]`             | Filter rows based on a condition.                    | `df[df[\"Age\"] > 30]`                                                        |\n",
        "| `df.dropna()`                        | Drop rows with missing values.                       | `df.dropna()`                                                               |\n",
        "| `df.fillna(value)`                   | Fill missing values with a default value.            | `df.fillna(0)`                                                              |\n",
        "| `df.sort_values(by=\"col\")`           | Sort DataFrame by a column.                          | `df.sort_values(by=\"Age\", ascending=False)`                                 |\n",
        "| `df.groupby(\"col\").mean()`           | Group by a column and calculate mean.                | `df.groupby(\"Pclass\")[\"Fare\"].mean()`                                       |\n",
        "| `df[\"new_col\"] = df[\"col1\"] + df[\"col2\"]` | Add a new column.                              | `df[\"FamilySize\"] = df[\"SibSp\"] + df[\"Parch\"]`                              |\n",
        "| `df.drop(columns=[\"col1\", \"col2\"])`  | Drop specific columns.                               | `df.drop(columns=[\"SibSp\", \"Parch\"])`                                       |\n",
        "| `df.rename(columns={\"old\": \"new\"})`  | Rename columns.                                      | `df.rename(columns={\"Pclass\": \"PassengerClass\"})`                           |\n",
        "| `df.apply(lambda x: ...)`            | Apply a function to a column.                        | `df[\"NameLength\"] = df[\"Name\"].apply(lambda x: len(x))`                     |\n",
        "| `pd.merge(df1, df2, on=\"col\")`       | Merge two DataFrames on a common column.             | `pd.merge(df1, df2, on=\"PassengerId\")`                                      |\n",
        "| `df.to_csv(\"filename.csv\")`          | Save DataFrame to a CSV file.                        | `df.to_csv(\"titanic_cleaned.csv\", index=False)`                             |\n"
      ],
      "metadata": {
        "id": "H1RImx7YFKJ1"
      }
    },
    {
      "cell_type": "markdown",
      "metadata": {
        "id": "gT-s9_PdslEW"
      },
      "source": [
        "## Installation\n",
        "\n",
        "**Via Anaconda/Miniconda:**  \n",
        "`condainstall pytorch-c pytorch`\n",
        "\n",
        "**Via pip:**  \n",
        "`pip3 install torch`\n"
      ]
    },
    {
      "cell_type": "code",
      "metadata": {
        "id": "GlRjjJqDr5bs",
        "outputId": "e7bbc25f-65f3-42ae-d3db-1b22bec5a0ce",
        "colab": {
          "base_uri": "https://localhost:8080/"
        }
      },
      "source": [
        "import torch\n",
        "print(torch.__version__)"
      ],
      "execution_count": null,
      "outputs": [
        {
          "output_type": "stream",
          "name": "stdout",
          "text": [
            "2.6.0+cu124\n"
          ]
        }
      ]
    },
    {
      "cell_type": "markdown",
      "source": [
        "https://github.com/Devinterview-io/pytorch-interview-questions"
      ],
      "metadata": {
        "id": "7nEOxI_5F-gF"
      }
    },
    {
      "cell_type": "markdown",
      "metadata": {
        "id": "xaso_dtjsExr"
      },
      "source": [
        "## 1. Tensors\n",
        "Tensors are similar to NumPy’s ndarrays, with the addition being that Tensors can also be used on a GPU to accelerate computing.\n",
        "\n",
        "### 1.1 Creating Tensors from data\n",
        "Tensors can be created from Python lists with the `torch.Tensor()` function."
      ]
    },
    {
      "cell_type": "code",
      "metadata": {
        "id": "zpQ5Oek2s4ca",
        "outputId": "c3073e45-bcc8-4c21-c509-e6d2ada9bfc3",
        "colab": {
          "base_uri": "https://localhost:8080/"
        }
      },
      "source": [
        "import torch\n",
        "\n",
        "# Example with 1-D data\n",
        "data = [1.0, 2.0, 3.0]\n",
        "tensor = torch.Tensor(data)\n",
        "print(\"Example with 1-D data\")\n",
        "print(tensor)\n",
        "\n",
        "# Example with 2-D data\n",
        "data = [[1., 2., 3.], [4., 5., 6]]\n",
        "tensor = torch.Tensor(data)\n",
        "print(\"\\nExample with 2-D data\")\n",
        "print(tensor)\n",
        "\n",
        "# Example with 3-D data\n",
        "data = [[[1.,2.], [3.,4.]],\n",
        "        [[5.,6.], [7.,8.]]]\n",
        "tensor = torch.Tensor(data)\n",
        "print(\"\\nExample with 3-D data\")\n",
        "print(tensor)"
      ],
      "execution_count": null,
      "outputs": [
        {
          "output_type": "stream",
          "name": "stdout",
          "text": [
            "Example with 1-D data\n",
            "tensor([1., 2., 3.])\n",
            "\n",
            "Example with 2-D data\n",
            "tensor([[1., 2., 3.],\n",
            "        [4., 5., 6.]])\n",
            "\n",
            "Example with 3-D data\n",
            "tensor([[[1., 2.],\n",
            "         [3., 4.]],\n",
            "\n",
            "        [[5., 6.],\n",
            "         [7., 8.]]])\n"
          ]
        }
      ]
    },
    {
      "cell_type": "markdown",
      "metadata": {
        "id": "b18oELGNvhNg"
      },
      "source": [
        "### 1.2 Initializing an empty Tensor\n",
        "An uninitialized matrix is declared, but does not contain definite known values before it is used. When an uninitialized matrix is created, whatever values were in the allocated memory at the time will appear as the initial values.\n"
      ]
    },
    {
      "cell_type": "code",
      "metadata": {
        "id": "kg_gi1AWv_1E",
        "outputId": "25096e12-a86c-4643-84bc-70b31b805d0f",
        "colab": {
          "base_uri": "https://localhost:8080/"
        }
      },
      "source": [
        "# Construct a 2x3 matrix, uninitialized\n",
        "x1 = torch.empty(2, 3)\n",
        "# x2 = torch.zeros(2, 3)\n",
        "print(x1)"
      ],
      "execution_count": null,
      "outputs": [
        {
          "output_type": "stream",
          "name": "stdout",
          "text": [
            "tensor([[3.1393e-34, 0.0000e+00, 3.1738e-34],\n",
            "        [0.0000e+00, 5.0000e+00, 6.0000e+00]])\n"
          ]
        }
      ]
    },
    {
      "cell_type": "markdown",
      "metadata": {
        "id": "gDr4ZzQrwOmZ"
      },
      "source": [
        "### 1.3 Randomly initialized Tensor\n",
        "\n"
      ]
    },
    {
      "cell_type": "code",
      "metadata": {
        "id": "r0pZQfUywgwL",
        "outputId": "a63614cf-bf71-46e7-b6fa-4557ce1c4921",
        "colab": {
          "base_uri": "https://localhost:8080/"
        }
      },
      "source": [
        "x = torch.rand(2, 3)\n",
        "print(x)"
      ],
      "execution_count": null,
      "outputs": [
        {
          "output_type": "stream",
          "name": "stdout",
          "text": [
            "tensor([[0.5351, 0.1158, 0.9290],\n",
            "        [0.9536, 0.1773, 0.4566]])\n"
          ]
        }
      ]
    },
    {
      "cell_type": "markdown",
      "metadata": {
        "id": "rLJOlS32wjFg"
      },
      "source": [
        "### 1.4 Tensor with zeros or ones"
      ]
    },
    {
      "cell_type": "code",
      "metadata": {
        "id": "JQ0JM9njwtFr",
        "outputId": "30741865-bfdc-4b17-f8b9-2881928d10d1",
        "colab": {
          "base_uri": "https://localhost:8080/"
        }
      },
      "source": [
        "# Create a matrix of all zeros\n",
        "x = torch.zeros(2, 3)\n",
        "print(\"Matrix of zeros\")\n",
        "print(x)\n",
        "\n",
        "# Create a matrix of all zeros and explicitly set data type to be long int\n",
        "x = torch.zeros(2, 3, dtype=torch.long)\n",
        "print(\"\\nMatrix of zeros typecasted to long\")\n",
        "print(x)\n",
        "\n",
        "x = torch.ones(2, 3, dtype=torch.long)\n",
        "print(\"\\nMatrix of ones typecasted to long\")\n",
        "print(x)\n"
      ],
      "execution_count": null,
      "outputs": [
        {
          "output_type": "stream",
          "name": "stdout",
          "text": [
            "Matrix of zeros\n",
            "tensor([[0., 0., 0.],\n",
            "        [0., 0., 0.]])\n",
            "\n",
            "Matrix of zeros typecasted to long\n",
            "tensor([[0, 0, 0],\n",
            "        [0, 0, 0]])\n",
            "\n",
            "Matrix of ones typecasted to long\n",
            "tensor([[1, 1, 1],\n",
            "        [1, 1, 1]])\n"
          ]
        }
      ]
    },
    {
      "cell_type": "markdown",
      "metadata": {
        "id": "s0HQKRy2wsDd"
      },
      "source": [
        "### 1.5 Create Tensor based on existing Tensor"
      ]
    },
    {
      "cell_type": "code",
      "metadata": {
        "id": "visdOehpxqd-",
        "outputId": "f902bf26-2c4b-47b8-c8db-af16dab75799",
        "colab": {
          "base_uri": "https://localhost:8080/"
        }
      },
      "source": [
        "x = x.new_ones(2, 3, dtype=torch.double)      # new_* methods take in sizes\n",
        "print(x)\n",
        "\n",
        "x = torch.randn_like(x, dtype=torch.float)    # override dtype!\n",
        "print(x)                                      # result has the same size"
      ],
      "execution_count": null,
      "outputs": [
        {
          "output_type": "stream",
          "name": "stdout",
          "text": [
            "tensor([[1., 1., 1.],\n",
            "        [1., 1., 1.]], dtype=torch.float64)\n",
            "tensor([[ 1.7618,  0.4297, -0.0662],\n",
            "        [-1.7433, -0.1033, -1.1099]])\n"
          ]
        }
      ]
    },
    {
      "cell_type": "markdown",
      "metadata": {
        "id": "HLZfCcObzBTe"
      },
      "source": [
        "### 1.6 Size of a Tensor\n",
        "`torch.Size` is in fact a tuple, so it supports all tuple operations."
      ]
    },
    {
      "cell_type": "code",
      "metadata": {
        "id": "YVIu-uZnzEm-",
        "outputId": "a7035d04-f4c1-48b8-a1e3-d9d765a00157",
        "colab": {
          "base_uri": "https://localhost:8080/"
        }
      },
      "source": [
        "# Example with 1-D data\n",
        "data = [1.0, 2.0, 3.0]\n",
        "tensor = torch.Tensor(data)\n",
        "print(\"Example with 1-D data\")\n",
        "print(tensor)\n",
        "print(tensor.size())\n",
        "\n",
        "# Example with 2-D data\n",
        "data = [[1., 2., 3.], [4., 5., 6]]\n",
        "tensor = torch.Tensor(data)\n",
        "print(\"\\nExample with 2-D data\")\n",
        "print(tensor)\n",
        "print(tensor.size())\n",
        "\n",
        "# Example with 3-D data\n",
        "data = [[[1.,2.], [3.,4.]],\n",
        "        [[5.,6.], [7.,8.]]]\n",
        "tensor = torch.Tensor(data)\n",
        "print(\"\\nExample with 3-D data\")\n",
        "print(tensor)\n",
        "print(tensor.size())"
      ],
      "execution_count": null,
      "outputs": [
        {
          "output_type": "stream",
          "name": "stdout",
          "text": [
            "Example with 1-D data\n",
            "tensor([1., 2., 3.])\n",
            "torch.Size([3])\n",
            "\n",
            "Example with 2-D data\n",
            "tensor([[1., 2., 3.],\n",
            "        [4., 5., 6.]])\n",
            "torch.Size([2, 3])\n",
            "\n",
            "Example with 3-D data\n",
            "tensor([[[1., 2.],\n",
            "         [3., 4.]],\n",
            "\n",
            "        [[5., 6.],\n",
            "         [7., 8.]]])\n",
            "torch.Size([2, 2, 2])\n"
          ]
        }
      ]
    },
    {
      "cell_type": "markdown",
      "metadata": {
        "id": "cYai6C6H0kKx"
      },
      "source": [
        "### 1.7 Operations with Tensors\n",
        "Most operations are very similar to NumPy."
      ]
    },
    {
      "cell_type": "code",
      "metadata": {
        "id": "ZRj42hPO0prW",
        "outputId": "c1bd53a1-20f2-4512-ef4b-a81109c707d3",
        "colab": {
          "base_uri": "https://localhost:8080/"
        }
      },
      "source": [
        "# Addition\n",
        "x = torch.Tensor([ 1., 2., 3. ])\n",
        "y = torch.Tensor([ 4., 5., 6. ])\n",
        "\n",
        "# using arithmetic operation\n",
        "z = x + y\n",
        "print(z)\n",
        "\n",
        "# using method\n",
        "print(torch.add(x, y))\n",
        "\n",
        "# using method and providing an output tensor as argument\n",
        "output = torch.empty(2, 3)\n",
        "torch.add(x, y, out=output)\n",
        "print(output)"
      ],
      "execution_count": null,
      "outputs": [
        {
          "output_type": "stream",
          "name": "stdout",
          "text": [
            "tensor([5., 7., 9.])\n",
            "tensor([5., 7., 9.])\n",
            "tensor([5., 7., 9.])\n"
          ]
        },
        {
          "output_type": "stream",
          "name": "stderr",
          "text": [
            "<ipython-input-6-38954958df63>:14: UserWarning: An output with one or more elements was resized since it had shape [2, 3], which does not match the required output shape [3]. This behavior is deprecated, and in a future PyTorch release outputs will not be resized unless they have zero elements. You can explicitly reuse an out tensor t by resizing it, inplace, to zero elements with t.resize_(0). (Triggered internally at /pytorch/aten/src/ATen/native/Resize.cpp:30.)\n",
            "  torch.add(x, y, out=output)\n"
          ]
        }
      ]
    },
    {
      "cell_type": "code",
      "metadata": {
        "id": "cjy0Zqik0-wL",
        "outputId": "d2820c51-6af4-421b-dbc6-e359e4ace0e6",
        "colab": {
          "base_uri": "https://localhost:8080/",
          "height": 35
        }
      },
      "source": [
        "# In-place addition\n",
        "\n",
        "x = torch.Tensor([ 1., 2., 3. ])\n",
        "y = torch.Tensor([ 4., 5., 6. ])\n",
        "\n",
        "y.add_(x)\n",
        "print(y)"
      ],
      "execution_count": null,
      "outputs": [
        {
          "output_type": "stream",
          "text": [
            "tensor([5., 7., 9.])\n"
          ],
          "name": "stdout"
        }
      ]
    },
    {
      "cell_type": "markdown",
      "metadata": {
        "id": "hFetPkbO1750"
      },
      "source": [
        "Any operation that mutates a tensor in-place is post-fixed with an underscore `_`. For example: `x.copy_(y)`, `x.t_()`, will change `x`.\n",
        "\n",
        "See [the PyTorch official documentation](http://pytorch.org/docs/torch.html) for a complete list of the massive number of operations available to you.  They expand beyond just mathematical operations.\n"
      ]
    },
    {
      "cell_type": "code",
      "metadata": {
        "id": "gedfbDbd06Fn",
        "outputId": "02241483-d092-43d0-d8ea-1dea06cdf9fb",
        "colab": {
          "base_uri": "https://localhost:8080/"
        }
      },
      "source": [
        "# Indexing\n",
        "\n",
        "x = torch.Tensor([[1., 2., 3.], [4., 5., 6]])\n",
        "print(x[1:, 1]) # Gets column with index 1"
      ],
      "execution_count": null,
      "outputs": [
        {
          "output_type": "stream",
          "name": "stdout",
          "text": [
            "tensor([5.])\n"
          ]
        }
      ]
    },
    {
      "cell_type": "code",
      "execution_count": null,
      "metadata": {
        "id": "xHeK7nJc0luh",
        "outputId": "4ce38e22-f83e-48df-be53-5f184eb7f469",
        "colab": {
          "base_uri": "https://localhost:8080/"
        }
      },
      "outputs": [
        {
          "output_type": "stream",
          "name": "stdout",
          "text": [
            "X tensor([[ 0,  1,  2,  3],\n",
            "        [ 4,  5,  6,  7],\n",
            "        [ 8,  9, 10, 11]])\n"
          ]
        }
      ],
      "source": [
        "x = torch.arange(12).view(-1, 4)\n",
        "print(\"X\", x)"
      ]
    },
    {
      "cell_type": "code",
      "execution_count": null,
      "metadata": {
        "id": "Kd3a6eTN0luh",
        "outputId": "624fc53f-fbec-4a47-8da6-d45b22f4e1bf",
        "colab": {
          "base_uri": "https://localhost:8080/"
        }
      },
      "outputs": [
        {
          "output_type": "stream",
          "name": "stdout",
          "text": [
            "tensor([1, 5, 9])\n"
          ]
        }
      ],
      "source": [
        "print(x[:, 1])   # Second column"
      ]
    },
    {
      "cell_type": "code",
      "execution_count": null,
      "metadata": {
        "id": "HzhLWCeE0luh",
        "outputId": "2f899364-3a0d-468b-86d9-39ffde956046",
        "colab": {
          "base_uri": "https://localhost:8080/"
        }
      },
      "outputs": [
        {
          "output_type": "stream",
          "name": "stdout",
          "text": [
            "tensor([0, 1, 2, 3])\n"
          ]
        }
      ],
      "source": [
        "print(x[0])      # First row"
      ]
    },
    {
      "cell_type": "code",
      "execution_count": null,
      "metadata": {
        "id": "mvAhTP970luh",
        "outputId": "a58116d1-ddf2-413a-a3fb-1481d2c4525f",
        "colab": {
          "base_uri": "https://localhost:8080/"
        }
      },
      "outputs": [
        {
          "output_type": "stream",
          "name": "stdout",
          "text": [
            "tensor([3, 7])\n"
          ]
        }
      ],
      "source": [
        "print(x[:2, -1]) # First two rows, last column"
      ]
    },
    {
      "cell_type": "code",
      "execution_count": null,
      "metadata": {
        "id": "Co3p_2vj0lui",
        "outputId": "df91cb65-bccd-425e-e879-d1c6eb12d9e4",
        "colab": {
          "base_uri": "https://localhost:8080/"
        }
      },
      "outputs": [
        {
          "output_type": "stream",
          "name": "stdout",
          "text": [
            "tensor([[ 4,  5,  6,  7],\n",
            "        [ 8,  9, 10, 11]])\n"
          ]
        }
      ],
      "source": [
        "print(x[1:3, :]) # Middle two rows"
      ]
    },
    {
      "cell_type": "markdown",
      "metadata": {
        "id": "_IqeYxdg3Bvk"
      },
      "source": [
        "### 1.8 Reshaping Tensors"
      ]
    },
    {
      "cell_type": "code",
      "metadata": {
        "id": "pUwsXsfw26g_",
        "outputId": "edcb323c-92b2-44dd-d4cf-dfe9e021e2a8",
        "colab": {
          "base_uri": "https://localhost:8080/"
        }
      },
      "source": [
        "x = torch.randn(4, 4)\n",
        "y = x.view(16)\n",
        "z = x.view(-1, 8)  # the size -1 is inferred from other dimensions\n",
        "print(x.size(), y.size(), z.size())"
      ],
      "execution_count": null,
      "outputs": [
        {
          "output_type": "stream",
          "name": "stdout",
          "text": [
            "torch.Size([4, 4]) torch.Size([16]) torch.Size([2, 8])\n"
          ]
        }
      ]
    },
    {
      "cell_type": "code",
      "metadata": {
        "id": "clJzuzI93U7k",
        "outputId": "3931c8ce-1e6e-40b1-8417-f38d0f2d8810",
        "colab": {
          "base_uri": "https://localhost:8080/"
        }
      },
      "source": [
        "x = torch.randn(1)\n",
        "print(x)\n",
        "print(x.item())"
      ],
      "execution_count": null,
      "outputs": [
        {
          "output_type": "stream",
          "name": "stdout",
          "text": [
            "tensor([-0.5266])\n",
            "-0.5266006588935852\n"
          ]
        }
      ]
    },
    {
      "cell_type": "markdown",
      "metadata": {
        "id": "zRbkdZcArlk7"
      },
      "source": [
        "### 1.9 Converting to and from NumPy\n",
        "Converting a Torch Tensor to a NumPy array and vice versa is a breeze.\n",
        "\n",
        "The Torch Tensor and NumPy array will **share their underlying memory locations** (if the Torch Tensor is on CPU), and **changing one will change the other**.\n",
        "\n"
      ]
    },
    {
      "cell_type": "code",
      "metadata": {
        "id": "BlLtucZM3g-N",
        "outputId": "00468aec-0d40-4cea-9c6a-85045929a6c0",
        "colab": {
          "base_uri": "https://localhost:8080/"
        }
      },
      "source": [
        "\n",
        "a = torch.ones(5)\n",
        "print(\"Original a:\", a)\n",
        "\n",
        "b = a.numpy()\n",
        "print(\"Original b:\", b)\n",
        "\n",
        "a.add_(1)\n",
        "print(\"New a:\", a)\n",
        "print(\"New b:\", b)"
      ],
      "execution_count": null,
      "outputs": [
        {
          "output_type": "stream",
          "name": "stdout",
          "text": [
            "Original a: tensor([1., 1., 1., 1., 1.])\n",
            "Original b: [1. 1. 1. 1. 1.]\n",
            "New a: tensor([2., 2., 2., 2., 2.])\n",
            "New b: [2. 2. 2. 2. 2.]\n"
          ]
        }
      ]
    },
    {
      "cell_type": "code",
      "metadata": {
        "id": "Cij37AWq31XG",
        "outputId": "19469cfa-83f2-4e65-a1f9-a9d54aacfde7",
        "colab": {
          "base_uri": "https://localhost:8080/",
          "height": 54
        }
      },
      "source": [
        "import numpy as np\n",
        "a = np.ones(5)\n",
        "b = torch.from_numpy(a)\n",
        "np.add(a, 1, out=a)\n",
        "print(a)\n",
        "print(b)"
      ],
      "execution_count": null,
      "outputs": [
        {
          "output_type": "stream",
          "text": [
            "[2. 2. 2. 2. 2.]\n",
            "tensor([2., 2., 2., 2., 2.], dtype=torch.float64)\n"
          ],
          "name": "stdout"
        }
      ]
    },
    {
      "cell_type": "markdown",
      "metadata": {
        "id": "g-T79NfE4Ck2"
      },
      "source": [
        "### 1.10. CUDA Tensors\n",
        "\n",
        "Tensors can be moved onto any device using the `.to` method.\n"
      ]
    },
    {
      "cell_type": "markdown",
      "metadata": {
        "id": "kbUIutU44psf"
      },
      "source": [
        "### Enable GPU on your Colab notebook\n",
        "\n",
        "Go to Edit -> Notebook Settings -> select GPU as Hardware accelerator\n",
        "\n",
        "<img src=\"https://jovianlin.io/content/images/2018/01/Screen-Shot-2018-01-23-at-8.38.04-AM.png\" width=\"300\">"
      ]
    },
    {
      "cell_type": "code",
      "metadata": {
        "id": "KWaJxd1-4M2w",
        "outputId": "191b9ef2-4f84-4555-c32e-924d87ab9cf3",
        "colab": {
          "base_uri": "https://localhost:8080/"
        }
      },
      "source": [
        "# Try to run this cell with both GPU support and without\n",
        "import torch\n",
        "print(\"CUDA available?\", torch.cuda.is_available())\n",
        "\n",
        "# We will use ``torch.device`` objects to move tensors in and out of GPU\n",
        "if torch.cuda.is_available():\n",
        "    device = torch.device(\"cuda\")          # a CUDA device object\n",
        "    x = torch.Tensor([1.0, 2.0, 3.0])\n",
        "    y = torch.ones_like(x, device=device)  # directly create a tensor on GPU\n",
        "    x = x.to(device)                       # or just use strings ``.to(\"cuda\")``\n",
        "    z = x + y\n",
        "    print(z)\n",
        "    print(z.to(\"cpu\", torch.double))       # ``.to`` can also change dtype together!"
      ],
      "execution_count": null,
      "outputs": [
        {
          "output_type": "stream",
          "name": "stdout",
          "text": [
            "CUDA available? True\n",
            "tensor([2., 3., 4.], device='cuda:0')\n",
            "tensor([2., 3., 4.], dtype=torch.float64)\n"
          ]
        }
      ]
    },
    {
      "cell_type": "markdown",
      "metadata": {
        "id": "UqClHzpw6Lg3"
      },
      "source": [
        "## 2. Autograd: Automatic Differentiation\n",
        "\n",
        "The autograd package provides automatic differentiation for all operations on Tensors. It is a define-by-run framework, which means that your backprop is defined by how your code is run, and that every single iteration can be different.\n",
        "\n",
        "``torch.Tensor`` is the central class of the package. If you set its attribute\n",
        "``.requires_grad`` as ``True``, it **starts to track all operations on it**. When\n",
        "you finish your computation you can call ``.backward()`` and have **all the\n",
        "gradients computed automatically**. The gradient for this tensor will be\n",
        "accumulated into ``.grad`` attribute.\n",
        "\n",
        "To **stop a tensor from tracking history**, you can call ``.detach()`` to detach\n",
        "it from the computation history, and to prevent future computation from being\n",
        "tracked.\n",
        "\n",
        "To **prevent tracking history (and using memory)**, you can also wrap the code block\n",
        "in ``with torch.no_grad():``. This can be particularly helpful when evaluating a\n",
        "model because the model may have trainable parameters with `requires_grad=True`,\n",
        "but for which we don't need the gradients."
      ]
    },
    {
      "cell_type": "code",
      "metadata": {
        "id": "s3JXX8xr8HWJ",
        "outputId": "5aec36cc-6c58-497b-cc35-c00a8b4fba65",
        "colab": {
          "base_uri": "https://localhost:8080/"
        }
      },
      "source": [
        "import torch\n",
        "x = torch.ones(2, 2, requires_grad=True)\n",
        "print(x)"
      ],
      "execution_count": null,
      "outputs": [
        {
          "output_type": "stream",
          "name": "stdout",
          "text": [
            "tensor([[1., 1.],\n",
            "        [1., 1.]], requires_grad=True)\n"
          ]
        }
      ]
    },
    {
      "cell_type": "code",
      "metadata": {
        "id": "CuHGuSWn8Pfm",
        "outputId": "9c5b5e2a-11d8-41f4-b2ca-5d41c4e7ad81",
        "colab": {
          "base_uri": "https://localhost:8080/"
        }
      },
      "source": [
        "y = x + 2\n",
        "print(y)\n",
        "\n",
        "# y was created as a result of an operation, so it has a grad_fn."
      ],
      "execution_count": null,
      "outputs": [
        {
          "output_type": "stream",
          "name": "stdout",
          "text": [
            "tensor([[3., 3.],\n",
            "        [3., 3.]], grad_fn=<AddBackward0>)\n"
          ]
        }
      ]
    },
    {
      "cell_type": "code",
      "metadata": {
        "id": "ylMfa4AP8ZfW",
        "outputId": "c745bda5-2b37-4387-9017-c7558fdb6246",
        "colab": {
          "base_uri": "https://localhost:8080/"
        }
      },
      "source": [
        "z = y * y * 2\n",
        "out = z.mean()\n",
        "\n",
        "print(z, out)"
      ],
      "execution_count": null,
      "outputs": [
        {
          "output_type": "stream",
          "name": "stdout",
          "text": [
            "tensor([[18., 18.],\n",
            "        [18., 18.]], grad_fn=<MulBackward0>) tensor(18., grad_fn=<MeanBackward0>)\n"
          ]
        }
      ]
    },
    {
      "cell_type": "markdown",
      "metadata": {
        "id": "TbbCf8kM8-hd"
      },
      "source": [
        "``.requires_grad_( ... )`` changes an existing Tensor's ``requires_grad``\n",
        "flag in-place. The input flag defaults to ``False`` if not given.\n",
        "\n"
      ]
    },
    {
      "cell_type": "code",
      "metadata": {
        "id": "qrCqBdbE9Avl",
        "outputId": "6be7f6c2-4248-4775-8444-bf2c5b0789d7",
        "colab": {
          "base_uri": "https://localhost:8080/"
        }
      },
      "source": [
        "a = torch.randn(2, 2)\n",
        "a = ((a * 3) / (a - 1))\n",
        "print(a.requires_grad)\n",
        "a.requires_grad_(True)\n",
        "print(a.requires_grad)\n",
        "b = (a * a).sum()\n",
        "print(b.grad_fn)"
      ],
      "execution_count": null,
      "outputs": [
        {
          "output_type": "stream",
          "name": "stdout",
          "text": [
            "False\n",
            "True\n",
            "<SumBackward0 object at 0x7d813047c100>\n"
          ]
        }
      ]
    },
    {
      "cell_type": "markdown",
      "metadata": {
        "id": "gonQpAmB-nLL"
      },
      "source": [
        "Let us consider a complete example now.\n",
        "\n",
        "Let $out = \\frac{1}{4}\\sum_i z_i$,  \n",
        "$z_i = 3(x_i+2)^2$  \n",
        "and $z_i\\bigr\\rvert_{x_i=1} = 27$.  \n",
        "Therefore,  \n",
        "$\\frac{\\partial out}{\\partial x_i} = \\frac{1}{4}\\frac{\\partial z_i}{\\partial x_i} = \\frac{1}{4}.3.2(x_i+2) = \\frac{3}{2}(x_i+2)$,  \n",
        " hence  \n",
        "$\\frac{\\partial out}{\\partial x_i}\\bigr\\rvert_{x_i=1} = \\frac{9}{2} = 4.5$.\n",
        "\n"
      ]
    },
    {
      "cell_type": "code",
      "metadata": {
        "id": "TbbdshuP-mRz",
        "outputId": "8ab35145-441f-40c8-f097-59a39b367af0",
        "colab": {
          "base_uri": "https://localhost:8080/"
        }
      },
      "source": [
        "x = torch.ones(2, 2, requires_grad=True)\n",
        "y = x + 2\n",
        "z = y * y * 3\n",
        "out = z.mean()\n",
        "print(out)\n",
        "\n",
        "out.backward()\n",
        "print(x.grad)\n"
      ],
      "execution_count": null,
      "outputs": [
        {
          "output_type": "stream",
          "name": "stdout",
          "text": [
            "tensor(27., grad_fn=<MeanBackward0>)\n",
            "tensor([[4.5000, 4.5000],\n",
            "        [4.5000, 4.5000]])\n"
          ]
        }
      ]
    },
    {
      "cell_type": "markdown",
      "metadata": {
        "id": "lZylx24TAy1q"
      },
      "source": [
        "Mathematically, if you have a vector valued function $\\vec{y}=f(\\vec{x})$, then the gradient of $\\vec{y}$ with respect to $\\vec{x}$ is a Jacobian matrix:\n",
        "\\begin{split}J=\\left(\\begin{array}{ccc}\n",
        " \\frac{\\partial y_{1}}{\\partial x_{1}} & \\cdots & \\frac{\\partial y_{1}}{\\partial x_{n}}\\\\\n",
        " \\vdots & \\ddots & \\vdots\\\\\n",
        " \\frac{\\partial y_{m}}{\\partial x_{1}} & \\cdots & \\frac{\\partial y_{m}}{\\partial x_{n}}\n",
        " \\end{array}\\right)\\end{split}\n",
        "\n",
        "Generally speaking, `torch.autograd` is an engine for computing vector-Jacobian product. That is, given any vector $v=\\left(\\begin{array}{cccc} v_{1} & v_{2} & \\cdots & v_{m}\\end{array}\\right)^{T}$, compute the product $v^{T}\\cdot J$. If $v$ happens to be the gradient of a scalar function $l=g\\left(\\vec{y}\\right)$, that is, $v=\\left(\\begin{array}{ccc}\\frac{\\partial l}{\\partial y_{1}} & \\cdots & \\frac{\\partial l}{\\partial y_{m}}\\end{array}\\right)^{T}$, then by the chain rule, the vector-Jacobian product would be the gradient of $l$ with respect to $\\vec{x}$:\n",
        "\\begin{split}J^{T}\\cdot v=\\left(\\begin{array}{ccc}\n",
        " \\frac{\\partial y_{1}}{\\partial x_{1}} & \\cdots & \\frac{\\partial y_{m}}{\\partial x_{1}}\\\\\n",
        " \\vdots & \\ddots & \\vdots\\\\\n",
        " \\frac{\\partial y_{1}}{\\partial x_{n}} & \\cdots & \\frac{\\partial y_{m}}{\\partial x_{n}}\n",
        " \\end{array}\\right)\\left(\\begin{array}{c}\n",
        " \\frac{\\partial l}{\\partial y_{1}}\\\\\n",
        " \\vdots\\\\\n",
        " \\frac{\\partial l}{\\partial y_{m}}\n",
        " \\end{array}\\right)=\\left(\\begin{array}{c}\n",
        " \\frac{\\partial l}{\\partial x_{1}}\\\\\n",
        " \\vdots\\\\\n",
        " \\frac{\\partial l}{\\partial x_{n}}\n",
        " \\end{array}\\right)\\end{split}\n",
        "\n",
        "(Note that $v^{T}\\cdot J$ gives a row vector which can be treated as a column vector by taking $J^{T}\\cdot v$.)\n",
        "\n",
        "This characteristic of vector-Jacobian product makes it very convenient to feed external gradients into a model that has non-scalar output."
      ]
    },
    {
      "cell_type": "markdown",
      "metadata": {
        "id": "nk1g2FU8YwfS"
      },
      "source": [
        "You can also stop autograd from tracking history on Tensors with `.requires_grad=True` either by wrapping the code block in with `torch.no_grad()`:"
      ]
    },
    {
      "cell_type": "code",
      "metadata": {
        "outputId": "6936ff97-96e3-4a23-902c-551d12fb7d8d",
        "id": "h-tRLTbhYtWL",
        "colab": {
          "base_uri": "https://localhost:8080/"
        }
      },
      "source": [
        "print(x.requires_grad)\n",
        "print((x ** 2).requires_grad)\n",
        "\n",
        "with torch.no_grad():\n",
        "    print((x ** 2).requires_grad)"
      ],
      "execution_count": null,
      "outputs": [
        {
          "output_type": "stream",
          "name": "stdout",
          "text": [
            "True\n",
            "True\n",
            "False\n"
          ]
        }
      ]
    },
    {
      "cell_type": "markdown",
      "metadata": {
        "id": "V5716VvqZjfV"
      },
      "source": [
        "Every time a variable is back propogated through, the gradient will be accumulated instead of being replaced. Calling `tensor.grad_zero()` would reset the gradients that have accumulated to 0.\n"
      ]
    },
    {
      "cell_type": "markdown",
      "metadata": {
        "id": "LvVKKkOHaAu0"
      },
      "source": []
    },
    {
      "cell_type": "code",
      "source": [
        "import torch\n",
        "# provides datasets, model architectures, and image transformations for computer vision tasks.\n",
        "import torchvision\n",
        "# preprocess and augment image data.\n",
        "import torchvision.transforms as transforms\n",
        "\n",
        "# PyTorch TensorBoard support\n",
        "# from TensorBoard to log training metrics (e.g., loss, accuracy) for visualization.\n",
        "# from torch.utils.tensorboard import SummaryWriter\n",
        "# timestamp logs\n",
        "# from datetime import datetime\n",
        "\n",
        "'''\n",
        "transforms.Compose: multiple transformations into a single pipeline\n",
        "transforms.ToTensor(): Converts images (PIL or NumPy arrays) into PyTorch tensors and scales pixel values to the range [0, 1].\n",
        "transforms.Normalize(): Normalizes the tensor with a mean of 0.5 and a standard deviation of 0.5. This scales pixel values to the range [-1, 1].\n",
        "\n",
        "'''\n",
        "transform = transforms.Compose(\n",
        "    [transforms.ToTensor(),\n",
        "    transforms.Normalize((0.5,), (0.5,))])\n",
        "\n",
        "'''\n",
        "FashionMNIST: A dataset of 60,000 training and 10,000 validation grayscale images of 10 fashion categories (e.g., T-shirt, Trouser).\n",
        "train=True: Loads the training set.\n",
        "train=False: Loads the validation set.\n",
        "transform=transform: Applies the transformation pipeline defined earlier.\n",
        "download=True: Downloads the dataset if it doesn't already exist in the ./data directory.\n",
        "'''\n",
        "\n",
        "# Create datasets for training & validation, download if necessary\n",
        "training_set = torchvision.datasets.FashionMNIST('./data', train=True, transform=transform, download=True)\n",
        "validation_set = torchvision.datasets.FashionMNIST('./data', train=False, transform=transform, download=True)\n",
        "\n",
        "'''\n",
        "DataLoader: Wraps the dataset and provides batches of data for training or validation.\n",
        "batch_size=4: Each batch contains 4 images.\n",
        "shuffle=True: Shuffles the training data to ensure randomness during training.\n",
        "shuffle=False: Validation data is not shuffled, as order doesn't matter for evaluation.\n",
        "'''\n",
        "# Create data loaders for our datasets; shuffle for training, not for validation\n",
        "training_loader = torch.utils.data.DataLoader(training_set, batch_size=8, shuffle=True)\n",
        "validation_loader = torch.utils.data.DataLoader(validation_set, batch_size=8, shuffle=False)\n",
        "\n",
        "# Class labels\n",
        "classes = ('T-shirt/top', 'Trouser', 'Pullover', 'Dress', 'Coat',\n",
        "        'Sandal', 'Shirt', 'Sneaker', 'Bag', 'Ankle Boot')\n",
        "\n",
        "print('Training set has {} instances'.format(len(training_set)))\n",
        "print('Validation set has {} instances'.format(len(validation_set)))"
      ],
      "metadata": {
        "colab": {
          "base_uri": "https://localhost:8080/"
        },
        "id": "05jlUGW-wj4W",
        "outputId": "4ab5a321-4d99-48e5-de5c-c31c304af03b"
      },
      "execution_count": null,
      "outputs": [
        {
          "output_type": "stream",
          "name": "stdout",
          "text": [
            "Training set has 60000 instances\n",
            "Validation set has 10000 instances\n"
          ]
        }
      ]
    },
    {
      "cell_type": "code",
      "source": [
        "'''\n",
        "matplotlib.pyplot: A library for creating visualizations (e.g., plots, images).\n",
        "numpy: A library for numerical operations, often used to handle arrays.\n",
        "'''\n",
        "\n",
        "import matplotlib.pyplot as plt\n",
        "import numpy as np\n",
        "\n",
        "# Helper function for inline image display\n",
        "def matplotlib_imshow(img, one_channel=False): # helper function\n",
        "    if one_channel: # whether the image is grayscale (single channel) or RGB (three channels).\n",
        "    #  tensor is averaged along the channel dimension (dim=0) to convert it from a 3D tensor (C x H x W) to a 2D tensor (H x W).\n",
        "        img = img.mean(dim=0)\n",
        "    img = img / 2 + 0.5     # unnormalize, To display it correctly\n",
        "    npimg = img.numpy() # Convert to NumPy\n",
        "    if one_channel:\n",
        "        plt.imshow(npimg, cmap=\"Greys\") # grayscale colormap (cmap=\"Greys\").\n",
        "    else:\n",
        "        plt.imshow(np.transpose(npimg, (1, 2, 0))) # the tensor dimensions are transposed from (C, H, W) to (H, W, C) using np.transpose (Matplotlib expects the channel dimension to be last).\n",
        "\n",
        "dataiter = iter(training_loader) # an iterator from the training_loader.\n",
        "images, labels = next(dataiter) # Fetches the next batch of images and labels from the iterator.\n",
        "\n",
        "# Create a grid from the images and show them\n",
        "img_grid = torchvision.utils.make_grid(images) # Combines a batch of images into a single grid for visualization. The grid is a single tensor where multiple images are arranged in a rectangular layout.\n",
        "matplotlib_imshow(img_grid, one_channel=True)\n",
        "print(' \\n'.join(classes[labels[j]] for j in range(8)))"
      ],
      "metadata": {
        "colab": {
          "base_uri": "https://localhost:8080/",
          "height": 269
        },
        "id": "h0KEcE1Cwtm2",
        "outputId": "ed4a144b-8406-4430-dd96-7e6269142259"
      },
      "execution_count": null,
      "outputs": [
        {
          "output_type": "stream",
          "name": "stdout",
          "text": [
            "Pullover \n",
            "Sneaker \n",
            "Trouser \n",
            "Coat \n",
            "Sneaker \n",
            "T-shirt/top \n",
            "Coat \n",
            "Sneaker\n"
          ]
        },
        {
          "output_type": "display_data",
          "data": {
            "text/plain": [
              "<Figure size 640x480 with 1 Axes>"
            ],
            "image/png": "[encoded data removed]"
          },
          "metadata": {}
        }
      ]
    },
    {
      "cell_type": "markdown",
      "source": [
        "transforms.Compose: This is a function from the torchvision.transforms module. It allows us to chain together multiple image transformations. In this case, it creates a composed transformation that converts images to tensors and then normalizes them.\n",
        "\n",
        "transforms.ToTensor(): This transformation converts PIL images or numpy arrays into PyTorch tensors. Each image is converted from a PIL image format or numpy array of shape (H x W x C) to a PyTorch tensor of shape (C x H x W), where C is the number of channels (usually 1 for grayscale images).\n",
        "\n",
        "transforms.Normalize((0.5,), (0.5,)): This transformation normalizes the tensor image with mean and standard deviation. In this case, it subtracts 0.5 from each pixel value and then divides by 0.5. This normalization brings the pixel values in the range [-1, 1], which is commonly used for training neural networks.\n",
        "\n",
        "datasets.MNIST: This is a class from the torchvision.datasets module used to load the MNIST dataset. It downloads the dataset from the internet (if not already downloaded) and applies the specified transformations.\n",
        "\n",
        "train_dataset: This variable holds an instance of the MNIST dataset class for training data. It is initialized with the root directory where the dataset will be stored (./data), set to download the training set (train=True), and applies the specified transformations.\n",
        "\n",
        "test_dataset: Similar to train_dataset, this variable holds an instance of the MNIST dataset class for testing data. However, it is set to download the test set (train=False).\n",
        "\n",
        "torch.utils.data.DataLoader: This is a data loader class from the torch.utils.data module. It wraps a dataset and provides an iterable over the dataset. It also supports automatic batching, shuffling, and parallel data loading.\n",
        "\n",
        "train_loader: This variable holds a data loader for the training dataset. It is initialized with the train_dataset and configured to batch the data into batches of size 64 (batch_size=64). The shuffle=True argument indicates that the data will be shuffled randomly during training.\n",
        "\n",
        "test_loader: Similar to train_loader, this variable holds a data loader for the test dataset. However, it is not configured to shuffle the data during testing (shuffle=False)."
      ],
      "metadata": {
        "id": "pzfJ7cCfLu_k"
      }
    },
    {
      "cell_type": "markdown",
      "source": [
        "nn.CrossEntropyLoss() is specifically used for classification problems where the output is class probabilities. It combines the softmax function and the negative log-likelihood loss. It's commonly used when dealing with multi-class classification problems.\n",
        "\n",
        "optim.Adam is an optimization algorithm that is an extension of stochastic gradient descent (SGD). It's known for its adaptive learning rate method, which adjusts the learning rate during training based on the average of past gradients. This adaptive learning rate approach can lead to faster convergence and better performance compared to traditional SGD."
      ],
      "metadata": {
        "id": "RELIW2GDMJuy"
      }
    },
    {
      "cell_type": "code",
      "source": [
        "'''\n",
        "torch.nn: Contains neural network layers and loss functions.\n",
        "torch.optim: Provides optimization algorithms like Adam and SGD.\n",
        "'''\n",
        "\n",
        "import torch\n",
        "import torch.nn as nn\n",
        "import torch.optim as optim\n",
        "from torchvision import datasets, transforms\n",
        "\n",
        "# Define a simple neural network classifier\n",
        "class Classifier(nn.Module): #  Inheritance from nn.Module\n",
        "    def __init__(self): # constructor / set up the object\n",
        "        super(Classifier, self).__init__() # to also execure parent init\n",
        "        self.fc1 = nn.Linear(28 * 28, 128)\n",
        "        self.fc2 = nn.Linear(128, 64)\n",
        "        self.fc3 = nn.Linear(64, 10)\n",
        "\n",
        "    def forward(self, x):\n",
        "        x = x.view(-1, 28 * 28)  # Flatten the input\n",
        "        x = torch.relu(self.fc1(x)) # ReLU activation\n",
        "        x = torch.relu(self.fc2(x))\n",
        "        x = self.fc3(x) # output logits / not probabilities\n",
        "        return x\n",
        "\n",
        "\n",
        "import torch.nn.functional as F # collection of functions that are used to build and manipulate neural networks (stateless) - they don’t hold any learnable parameters\n",
        "'''\n",
        "in_channels=1: MNIST images are grayscale, so there’s only 1 input channel.\n",
        "out_channels=32: Number of filters (feature maps) to learn.\n",
        "kernel_size=3: Size of the convolutional filter (3x3).\n",
        "stride=1: Step size for the convolution.\n",
        "padding=1: Pads the input to preserve spatial dimensions.\n",
        "'''\n",
        "class CNNClassifier(nn.Module):\n",
        "    def __init__(self):\n",
        "        super(CNNClassifier, self).__init__()\n",
        "        self.conv1 = nn.Conv2d(1, 32, 3, 1, 1) # 2D convolution\n",
        "        self.conv2 = nn.Conv2d(32, 64, 3, 1, 1)\n",
        "        self.pool = nn.MaxPool2d(2, 2) # Reduces the spatial dimensions of the feature map\n",
        "        self.fc1 = nn.Linear(64 * 7 * 7, 128)\n",
        "        self.fc2 = nn.Linear(128, 10)\n",
        "\n",
        "    def forward(self, x):\n",
        "        x = self.pool(F.relu(self.conv1(x)))\n",
        "        x = self.pool(F.relu(self.conv2(x)))\n",
        "        x = x.view(-1, 64 * 7 * 7)\n",
        "        x = F.relu(self.fc1(x))\n",
        "        x = self.fc2(x)\n",
        "        return x\n",
        "\n",
        "# Load the MNIST dataset\n",
        "transform = transforms.Compose([\n",
        "    transforms.ToTensor(),\n",
        "    transforms.Normalize((0.5,), (0.5,))\n",
        "])\n",
        "\n",
        "train_dataset = datasets.MNIST(root='./data', train=True, download=True, transform=transform)\n",
        "test_dataset = datasets.MNIST(root='./data', train=False, download=True, transform=transform)\n",
        "\n",
        "train_loader = torch.utils.data.DataLoader(train_dataset, batch_size=64, shuffle=True)\n",
        "test_loader = torch.utils.data.DataLoader(test_dataset, batch_size=64, shuffle=False)\n",
        "\n",
        "# Initialize the model, loss function, and optimizer\n",
        "'''\n",
        "model: An instance of the Classifier neural network.\n",
        "criterion: The loss function (CrossEntropyLoss)\n",
        "optimizer: The Adam optimizer. The learning rate is set to 0.001.\n",
        "'''\n",
        "model = CNNClassifier()\n",
        "criterion = nn.CrossEntropyLoss()\n",
        "optimizer = optim.Adam(model.parameters(), lr=0.001)\n",
        "\n",
        "# Train the model\n",
        "num_epochs = 2\n",
        "for epoch in range(num_epochs):\n",
        "    running_loss = 0.0\n",
        "    for images, labels in train_loader:\n",
        "        optimizer.zero_grad() # Clears the gradients from the previous iteration.\n",
        "        outputs = model(images) # forward pass\n",
        "        loss = criterion(outputs, labels)\n",
        "        loss.backward() # Computes gradients of the loss with respect to the model's parameters.\n",
        "        optimizer.step() # Updates the model's parameters\n",
        "        running_loss += loss.item()\n",
        "    print(f'Epoch {epoch+1}/{num_epochs}, Loss: {running_loss / len(train_loader)}')\n",
        "\n",
        "# # Evaluate the model on the test set\n",
        "correct = 0\n",
        "total = 0\n",
        "with torch.no_grad():\n",
        "    for images, labels in test_loader:\n",
        "        outputs = model(images)\n",
        "        _, predicted = torch.max(outputs.data, 1) # class with the highest score (logit)\n",
        "        total += labels.size(0)\n",
        "        correct += (predicted == labels).sum().item()\n",
        "\n",
        "print(f'Accuracy on the test set: {100 * correct / total:.2f}%')\n"
      ],
      "metadata": {
        "colab": {
          "base_uri": "https://localhost:8080/"
        },
        "id": "LknIU7LYxS20",
        "outputId": "ec519d6e-8b6f-42d5-94ea-b8c19875c46d"
      },
      "execution_count": null,
      "outputs": [
        {
          "output_type": "stream",
          "name": "stdout",
          "text": [
            "Epoch 1/2, Loss: 0.1610439428843673\n",
            "Epoch 2/2, Loss: 0.047098793940661327\n",
            "Accuracy on the test set: 98.86%\n"
          ]
        }
      ]
    },
    {
      "cell_type": "code",
      "source": [
        "import numpy as np\n",
        "\n",
        "# Function to display images\n",
        "def show_images(images, labels):\n",
        "    num_images = min(30, len(images))\n",
        "    fig, axes = plt.subplots(3, 10, figsize=(15, 7))\n",
        "    for i in range(num_images):\n",
        "        ax = axes[i // 10, i % 10]\n",
        "        ax.imshow(images[i].numpy().squeeze(), cmap='gray')\n",
        "        ax.set_title(f'Label: {labels[i]}')\n",
        "        ax.axis('off')\n",
        "    plt.show()\n",
        "\n",
        "# Show some images from the test set\n",
        "images, labels = next(iter(test_loader))\n",
        "show_images(images, labels)\n"
      ],
      "metadata": {
        "colab": {
          "base_uri": "https://localhost:8080/",
          "height": 538
        },
        "id": "Bjptmh30zhDX",
        "outputId": "e87cbfe0-a728-4344-ba22-a277b9bbe7b3"
      },
      "execution_count": null,
      "outputs": [
        {
          "output_type": "display_data",
          "data": {
            "text/plain": [
              "<Figure size 1500x700 with 30 Axes>"
            ],
            "image/png": "[encoded data removed]"
          },
          "metadata": {}
        }
      ]
    },
    {
      "cell_type": "code",
      "source": [
        "import matplotlib.pyplot as plt\n",
        "\n",
        "# Function to display images without labels\n",
        "def show_images(images):\n",
        "    num_images = min(20, len(images))\n",
        "    fig, axes = plt.subplots(1, num_images, figsize=(15, 5))\n",
        "    for i in range(num_images):\n",
        "        ax = axes[i]\n",
        "        ax.imshow(images[i].squeeze(), cmap='gray')\n",
        "        ax.axis('off')\n",
        "    plt.show()\n",
        "\n",
        "# Show some images from the test set without labels\n",
        "images, _ = next(iter(test_loader))\n",
        "show_images(images)"
      ],
      "metadata": {
        "colab": {
          "base_uri": "https://localhost:8080/",
          "height": 85
        },
        "id": "rf2R_X-biaL3",
        "outputId": "bee2f05f-54ea-4d24-c79c-5beb65453b70"
      },
      "execution_count": null,
      "outputs": [
        {
          "output_type": "display_data",
          "data": {
            "text/plain": [
              "<Figure size 1500x2500 with 20 Axes>"
            ],
            "image/png": "[encoded data removed]"
          },
          "metadata": {}
        }
      ]
    }
  ]
}